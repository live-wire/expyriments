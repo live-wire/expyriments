{
 "cells": [
  {
   "cell_type": "code",
   "execution_count": 1,
   "metadata": {},
   "outputs": [
    {
     "data": {
      "text/html": [
       "\n",
       "<style>\n",
       "    /*TU color table */\n",
       "    :root {\n",
       "      --tu-black:        rgb(0,0,0);\n",
       "      --tu-white:        rgb(255,255,255);\n",
       "      --tu-cyan:         rgb(0,166,214);\n",
       "      --tu-green:        rgb(165,202,26);\n",
       "      --tu-yellow:       rgb(225,196,0);\n",
       "      --tu-orange:       rgb(230,70,22);\n",
       "      --tu-red:          rgb(225,26,26);\n",
       "      --tu-purple:       rgb(109,23,127);\n",
       "      --tu-slategreen:   rgb(107,134,137);\n",
       "      --tu-turqoise:     rgb(0,136,145);\n",
       "      --tu-darkblue:     rgb(29,28,115);\n",
       "      --tu-skyblue:      rgb(110,187,213);\n",
       "    }\n",
       "    h2, h3, h4 {\n",
       "        background-color: var(--tu-white);\n",
       "        color: var(--tu-cyan);\n",
       "    }\n",
       "    h1 {\n",
       "        background-color: var(--tu-cyan);\n",
       "        color: var(--tu-white);\n",
       "    }\n",
       "    em {\n",
       "        color: var(--tu-cyan);\n",
       "    }\n",
       "     \n",
       "    div.output_stdout {\n",
       "        background-color: var(--tu-green);\n",
       "        color: var(--tu-black);\n",
       "    }\n",
       "    div.output_stdout:before {\n",
       "        content: \"stdout output;\";\n",
       "    }\n",
       "    div.output_stderr {\n",
       "        background-color: var(--tu-yellow);\n",
       "        color: var(--tu-black);\n",
       "    }\n",
       "    div.output_stderr:before {\n",
       "        content: \"stderr output;\";\n",
       "    }\n",
       "</style>\n",
       "<script>\n",
       "    code_show=true; \n",
       "    IPython.OutputArea.prototype._should_scroll = function(lines) {\n",
       "        return false;\n",
       "    }\n",
       "    function code_toggle() {\n",
       "        if (code_show){\n",
       "            $('div.cell.code_cell.rendered.selected div.input').hide();\n",
       "        } else {\n",
       "            $('div.cell.code_cell.rendered.selected div.input').show();\n",
       "        }\n",
       "        code_show = !code_show\n",
       "    }     \n",
       "    $( document ).ready(code_toggle);\n",
       "</script>\n",
       "<a href=\"javascript:code_toggle()\"><h4>Notebook settings</h4></a>\n"
      ],
      "text/plain": [
       "<IPython.core.display.HTML object>"
      ]
     },
     "metadata": {},
     "output_type": "display_data"
    }
   ],
   "source": [
    "# @hidden_cell\n",
    "\"\"\" Bart Gerritsen, Oct 2018:\n",
    "\n",
    "Note: for safety and robustness, styles and script are contained inside\n",
    "      the Notebook rather than in external *.css and *.js files\n",
    "\"\"\"      \n",
    "from IPython.core.display import HTML\n",
    "from IPython.display import display\n",
    "tag = HTML('''\n",
    "<style>\n",
    "    /*TU color table */\n",
    "    :root {\n",
    "      --tu-black:        rgb(0,0,0);\n",
    "      --tu-white:        rgb(255,255,255);\n",
    "      --tu-cyan:         rgb(0,166,214);\n",
    "      --tu-green:        rgb(165,202,26);\n",
    "      --tu-yellow:       rgb(225,196,0);\n",
    "      --tu-orange:       rgb(230,70,22);\n",
    "      --tu-red:          rgb(225,26,26);\n",
    "      --tu-purple:       rgb(109,23,127);\n",
    "      --tu-slategreen:   rgb(107,134,137);\n",
    "      --tu-turqoise:     rgb(0,136,145);\n",
    "      --tu-darkblue:     rgb(29,28,115);\n",
    "      --tu-skyblue:      rgb(110,187,213);\n",
    "    }\n",
    "    h2, h3, h4 {\n",
    "        background-color: var(--tu-white);\n",
    "        color: var(--tu-cyan);\n",
    "    }\n",
    "    h1 {\n",
    "        background-color: var(--tu-cyan);\n",
    "        color: var(--tu-white);\n",
    "    }\n",
    "    em {\n",
    "        color: var(--tu-cyan);\n",
    "    }\n",
    "     \n",
    "    div.output_stdout {\n",
    "        background-color: var(--tu-green);\n",
    "        color: var(--tu-black);\n",
    "    }\n",
    "    div.output_stdout:before {\n",
    "        content: \"stdout output;\";\n",
    "    }\n",
    "    div.output_stderr {\n",
    "        background-color: var(--tu-yellow);\n",
    "        color: var(--tu-black);\n",
    "    }\n",
    "    div.output_stderr:before {\n",
    "        content: \"stderr output;\";\n",
    "    }\n",
    "</style>\n",
    "<script>\n",
    "    code_show=true; \n",
    "    IPython.OutputArea.prototype._should_scroll = function(lines) {\n",
    "        return false;\n",
    "    }\n",
    "    function code_toggle() {\n",
    "        if (code_show){\n",
    "            $('div.cell.code_cell.rendered.selected div.input').hide();\n",
    "        } else {\n",
    "            $('div.cell.code_cell.rendered.selected div.input').show();\n",
    "        }\n",
    "        code_show = !code_show\n",
    "    }     \n",
    "    $( document ).ready(code_toggle);\n",
    "</script>\n",
    "<a href=\"javascript:code_toggle()\"><h4>Notebook settings</h4></a>\n",
    "''')\n",
    "display(tag)"
   ]
  },
  {
   "cell_type": "markdown",
   "metadata": {},
   "source": [
    "<header>\n",
    "    <div style=\"overflow: auto;\">\n",
    "        <img src=\"../figures/TUDelft.jpg\" style=\"float: left;\" />\n",
    "        <img src=\"../figures/DUT_Flame.png\" style=\"float: right; width: 100px;\" />\n",
    "    </div>\n",
    "    <div style=\"text-align: center;\">\n",
    "        <h2>Assignment A1: Abstract data types (Python3)</h2>\n",
    "        <h6>&copy; 2018, Bart Gerritsen, TU Delft.</h6>\n",
    "    </div>\n",
    "    <br>\n",
    "    <br>\n",
    "</header>"
   ]
  },
  {
   "cell_type": "markdown",
   "metadata": {},
   "source": [
    "# Introduction"
   ]
  },
  {
   "cell_type": "markdown",
   "metadata": {},
   "source": [
    "Below, you find **Assignment A1**, a 2-student team assignment, for which the team has exactly 2 weeks. The points to collect for each execercise or part thereof, are indicated.\n",
    "\n",
    "Warning: do **not** Run-all ```|>|>``` , as there can be some long tasks in this Notebook. Start at the top and run cell-by-cell, advancing downwards."
   ]
  },
  {
   "cell_type": "markdown",
   "metadata": {},
   "source": [
    "## Doubly Linked List\n",
    "\n",
    "The purpose of this assignment is to make you familiar with implementing a data structure in Python in an object oriented way. During the lectures, you were presented pseudo code of different basic data structures. Now we expect you to implement one of these structures yourself.\n",
    "\n",
    "To make it clear what is needed, we will provide you with three classes: \n",
    "\n",
    "1. `class Node`\n",
    "2. `class DoublyLinkedList`\n",
    "3. `class Stack`\n",
    "\n",
    "The first one is already implemented (you don't need to modify it). This ```class Node```will be used to hold information for each node in the ```DoublyLinkedList``` as well as the ```Stack```. The other classes are templates, with incompletely implemented code, empty methods, etc. and your assignment is to come up with an implementation of these parts so that the questions asked and the tasks assigned can be answered and demonstrated.\n",
    "\n",
    "Recall that a list is doubly linked, each node contains a reference to the previous node in the chain and a reference to the next node. Furthermore, observe that ```class Stack``` uses a python list of fixed length. "
   ]
  },
  {
   "cell_type": "code",
   "execution_count": 1,
   "metadata": {},
   "outputs": [],
   "source": [
    "class Node(object):\n",
    "    \"\"\"Doubly linked node which stores an object\"\"\"\n",
    "\n",
    "    def __init__(self, element, next_node=None, previous_node=None):\n",
    "        self.__element = element\n",
    "        self.__next_node = next_node\n",
    "        self.__previous_node = previous_node\n",
    "\n",
    "    def get_element(self):\n",
    "        \"\"\"Returns the element stored in this node\"\"\"\n",
    "        return self.__element\n",
    "\n",
    "    def get_previous(self):\n",
    "        \"\"\"Returns the previous linked node\"\"\"\n",
    "        return self.__previous_node\n",
    "\n",
    "    def get_next(self):\n",
    "        \"\"\"Returns the next linked node\"\"\"\n",
    "        return self.__next_node\n",
    "\n",
    "    def set_element(self, element):\n",
    "        \"\"\"Sets the element stored in this node\"\"\"\n",
    "        self.__element = element\n",
    "\n",
    "    def set_previous(self, previous_node):\n",
    "        \"\"\"Sets the previous linked node\"\"\"\n",
    "        self.__previous_node = previous_node\n",
    "\n",
    "    def set_next(self, next_node):\n",
    "        \"\"\"Sets the next linked node\"\"\"\n",
    "        self.__next_node = next_node\n",
    "        \n",
    "    def __lt__(self, other):\n",
    "        return self.get_element() < other.get_element()\n"
   ]
  },
  {
   "cell_type": "code",
   "execution_count": 5,
   "metadata": {},
   "outputs": [],
   "source": [
    "class DoublyLinkedList(object):\n",
    "    \"\"\"Doubly linked node data structure\"\"\"\n",
    "\n",
    "    def __init__(self):\n",
    "        self.__size = 0\n",
    "        self.__header = Node('Header')\n",
    "        self.__trailer = Node('Trailer')\n",
    "        self.__header.set_next(self.__trailer)\n",
    "        self.__trailer.set_previous(self.__header)\n",
    "        self.__current = None\n",
    "        \n",
    "    def __iter__(self):\n",
    "        \"\"\"Standard python iterator method\"\"\"\n",
    "        pass\n",
    "\n",
    "    def __next__(self):\n",
    "        \"\"\"Standard python iterator method\"\"\"\n",
    "        pass\n",
    "\n",
    "    def visit(self, function):\n",
    "        \"\"\"Run function on every element in the list\"\"\"\n",
    "        pass\n",
    "\n",
    "    def size(self):\n",
    "        \"\"\"Returns the number of elements in the list\"\"\"\n",
    "        pass\n",
    "\n",
    "    def is_empty(self):\n",
    "        \"\"\"Returns the number of elements in the list\"\"\"\n",
    "        pass\n",
    "\n",
    "    def get_first(self):\n",
    "        \"\"\"Get the first element of the list\"\"\"\n",
    "        pass\n",
    "\n",
    "    def get_last(self):\n",
    "        \"\"\"Get the last element of the list\"\"\"\n",
    "        pass\n",
    "\n",
    "    def get_previous(self, node):\n",
    "        \"\"\"Returns the node before the given node\"\"\"\n",
    "        pass\n",
    "\n",
    "    def get_next(self, node):\n",
    "        \"\"\"Returns the node after the given node\"\"\"\n",
    "        pass\n",
    "\n",
    "    def add_before(self, new, existing):\n",
    "        \"\"\"Insert the new before existing\"\"\"\n",
    "        pass\n",
    "\n",
    "    def add_after(self, new, existing):\n",
    "        \"\"\"Insert the new after existing\"\"\"\n",
    "        pass\n",
    "\n",
    "    def add_first(self, new):\n",
    "        \"\"\"Insert the node at the head of the list\"\"\"\n",
    "        pass\n",
    "\n",
    "    def add_last(self, new):\n",
    "        \"\"\"Insert the node at the tail of the list\"\"\"\n",
    "        pass\n",
    "\n",
    "    def remove(self, node):\n",
    "        \"\"\"Remove the given node from the list\"\"\"\n",
    "        pass\n",
    "    \n",
    "    def search(self, key):\n",
    "        \"\"\"Return node with element == key, None if not found\"\"\"\n",
    "        pass\n",
    "    \n",
    "    def smallest(self):\n",
    "        \"\"\"Return node with smallest element. None if empty\"\"\"\n",
    "        pass"
   ]
  },
  {
   "cell_type": "markdown",
   "metadata": {},
   "source": [
    "## EXERCISE 1: Complete the implementation of `class DoublyLinkedList`"
   ]
  },
  {
   "cell_type": "markdown",
   "metadata": {},
   "source": [
    "#### Task 1.1 (10 points): Using the implementation of `class DoublyLinkedList` *as-is*, create an empty doubly linked list and check its type. Make sure you ran the above cell so that `class Node` and `class DoublyLinkedList` are known, before running this cell. Leave the topmost template of  `class DoublyLinkedList` *as-is*, as a backup copy. Work out further implementation below."
   ]
  },
  {
   "cell_type": "code",
   "execution_count": 6,
   "metadata": {},
   "outputs": [
    {
     "data": {
      "text/plain": [
       "__main__.DoublyLinkedList"
      ]
     },
     "execution_count": 6,
     "metadata": {},
     "output_type": "execute_result"
    }
   ],
   "source": [
    "dl_list = DoublyLinkedList()\n",
    "type(dl_list)"
   ]
  },
  {
   "cell_type": "markdown",
   "metadata": {},
   "source": [
    "#### Task 1.2 (10 points): complete all the below functions of `class DoublyLinkedList`."
   ]
  },
  {
   "cell_type": "code",
   "execution_count": 22,
   "metadata": {},
   "outputs": [],
   "source": [
    "class DoublyLinkedList(object):\n",
    "    \n",
    "    def __init__(self):\n",
    "        self.__size = 0\n",
    "        self.__header = Node('Header')\n",
    "        self.__trailer = Node('Trailer')\n",
    "        self.__header.set_next(self.__trailer)\n",
    "        self.__trailer.set_previous(self.__header)\n",
    "        self.__current = None\n",
    "        \n",
    "    def __iter__(self):\n",
    "        \"\"\"Standard python iterator method\"\"\"\n",
    "        self.__current = self.get_first()\n",
    "        return self\n",
    "\n",
    "    def __next__(self):\n",
    "        \"\"\"Standard python iterator method\"\"\"\n",
    "        if self.__current == self.__trailer:\n",
    "            raise StopIteration()\n",
    "        result = self.__current\n",
    "        self.__current = self.__current.get_next()\n",
    "        return result\n",
    "    \n",
    "    def get_previous(self, node):\n",
    "        \"\"\"Returns the node before the given node\"\"\"\n",
    "        return node.get_previous()\n",
    "\n",
    "    def get_next(self, node):\n",
    "        \"\"\"Returns the node after the given node\"\"\"\n",
    "        return node.get_next()\n",
    "        \n",
    "    def visit(self, function):\n",
    "        \"\"\"Run function on every element in the list\"\"\"\n",
    "        ptr = self.get_first()\n",
    "        while(ptr is not None):\n",
    "            function(ptr.get_element())\n",
    "            ptr = ptr.get_next()\n",
    "    \n",
    "    def size(self):\n",
    "        \"\"\"Returns the number of elements in the list\"\"\"\n",
    "        return self.__size\n",
    "\n",
    "    def get_first(self):\n",
    "        return self.__header\n",
    "\n",
    "    def get_last(self):\n",
    "        \"\"\"Get the last element of the list\"\"\"\n",
    "        return self.__trailer\n",
    "        \n",
    "    def add_first(self, new):\n",
    "        \"\"\"Insert the node at the head of the list\"\"\"\n",
    "        header = self.get_first()\n",
    "        first = header.get_next()\n",
    "        header.set_next(new)\n",
    "        new.set_previous(header)\n",
    "        new.set_next(first)\n",
    "        first.set_previous(new)\n",
    "        self.__size = self.__size + 1\n",
    "\n",
    "    def add_last(self, new):\n",
    "        \"\"\"Insert the node at the tail of the list\"\"\"\n",
    "        trailer = self.get_last()\n",
    "        last = trailer.get_previous()\n",
    "        trailer.set_previous(new)\n",
    "        new.set_next(trailer)\n",
    "        new.set_previous(last)\n",
    "        last.set_next(new)\n",
    "        self.__size = self.__size + 1\n",
    "    \n",
    "    def is_empty(self):\n",
    "        \"\"\"Returns wether the list has zero nodes or not\"\"\"\n",
    "        if self.get_first() is None:\n",
    "            return True\n",
    "        return False\n",
    "    \n",
    "    def remove(self, node):\n",
    "        \"\"\"Remove the given node from the list\"\"\"\n",
    "        pass\n",
    "    \n",
    "    def search(self, key):\n",
    "        pass\n",
    "    def show(self):\n",
    "        ptr = self.get_first()\n",
    "        while(ptr is not None):\n",
    "            print(ptr.get_element())\n",
    "            ptr = ptr.get_next()"
   ]
  },
  {
   "cell_type": "code",
   "execution_count": 23,
   "metadata": {},
   "outputs": [
    {
     "name": "stdout",
     "output_type": "stream",
     "text": [
      "Is the list empty at the start? False\n",
      "Header\n",
      "b\n",
      "d\n",
      "a\n",
      "j\n",
      "m\n",
      "g\n",
      "Trailer\n",
      "Is the list empty after insertion? False\n",
      "The list has now 6 nodes.\n"
     ]
    }
   ],
   "source": [
    "dl_list = DoublyLinkedList()\n",
    "print('Is the list empty at the start? {:s}'. format(str(dl_list.is_empty())))\n",
    "nodes = ['a', 'd', 'b', 'j', 'm', 'g']\n",
    "for item in nodes[:3]:\n",
    "    dl_list.add_first(Node( item ))\n",
    "for item in nodes[3:]:\n",
    "    dl_list.add_last(Node( item ))\n",
    "dl_list.show()\n",
    "print('Is the list empty after insertion? {:s}'. format(str(dl_list.is_empty())))\n",
    "print('The list has now {:d} nodes.'.format(dl_list.size()))"
   ]
  },
  {
   "cell_type": "markdown",
   "metadata": {},
   "source": [
    "#### Task 1.3 (10 points) Implement all other functions, given in the topmost template of `class DoublyLinkedList`. Copy the remaining functions to the cell above and make sure you can run the below code for testing. Don't forget to rerun the code above with the new definitions. "
   ]
  },
  {
   "cell_type": "code",
   "execution_count": null,
   "metadata": {},
   "outputs": [],
   "source": [
    "def printNode(node):\n",
    "    print(str(node.get_element()) + ' ', end='')\n",
    "    \n",
    "def printList(L, title=None):\n",
    "    if title:\n",
    "        print( title )\n",
    "    # print the begin-of-list ..\n",
    "    print('( ', end='')\n",
    "    #point to the first node ...\n",
    "    curr = L.get_first()\n",
    "    while curr != L.get_last():\n",
    "        printNode(curr)\n",
    "        curr = curr.get_next()\n",
    "    # print the last one and close the list\n",
    "    printNode(curr)\n",
    "    print(' )')\n",
    "        \n",
    "printList(dl_list, 'current list after inserting 6 elements;')"
   ]
  },
  {
   "cell_type": "markdown",
   "metadata": {},
   "source": [
    "#### Task 1.4 (10 points) Implement all other functions, given in the topmost template of `class DoublyLinkedList`. Copy the remaining functions to the cell above and make sure you can run the below code for testing. Don't forget to rerun the code above with the new definitions. "
   ]
  },
  {
   "cell_type": "code",
   "execution_count": null,
   "metadata": {},
   "outputs": [],
   "source": [
    "print('List: first: {:s}, last: {:s}'. format(?????, ?????)\n",
    "\n",
    "print('Going to visit all elements of list;')\n",
    "dl_list.visit(?????); print()\n",
    "\n",
    "# remove elements from list ...\n",
    "dl_list.?????( ?????('a') )\n",
    "dl_list.?????( ?????('m') )\n",
    "dl_list.?????( ?????('g') )\n",
    "dl_list.?????( ?????('w') )"
   ]
  },
  {
   "cell_type": "markdown",
   "metadata": {},
   "source": [
    "## EXERCISE 2: Complete the implementation of `class Stack`"
   ]
  },
  {
   "cell_type": "code",
   "execution_count": 16,
   "metadata": {},
   "outputs": [],
   "source": [
    "class Stack(object):\n",
    "    \n",
    "    def __init__(self, max_size=10):\n",
    "        self.__item_list = [None] * max_size\n",
    "        self.__top = -1\n",
    "        self.__capacity = max_size\n",
    "        \n",
    "    def push(self, node):\n",
    "        \"\"\"Push node on top of the current stack\"\"\"\n",
    "        pass\n",
    "    \n",
    "    def pop(self):\n",
    "        \"\"\"Pull off node at the top of the stack. None if stack empty\"\"\"\n",
    "        pass\n",
    "    \n",
    "    def get_capacity(self):\n",
    "        \"\"\"return the max size of the stack\"\"\"\n",
    "        pass\n",
    "    \n",
    "    def get_size(self):\n",
    "        \"\"\"return the current size (#nodes) on the stack\"\"\"\n",
    "        pass\n",
    "    \n",
    "    def is_empty(self):\n",
    "        \"\"\"return true if stack holds no nodes, false otherwise\"\"\"\n",
    "        pass"
   ]
  },
  {
   "cell_type": "markdown",
   "metadata": {},
   "source": [
    "#### Task 2.1 (10 points) complete the above code"
   ]
  },
  {
   "cell_type": "markdown",
   "metadata": {},
   "source": [
    "#### Task 2.2 (20 points) test all of the above code of `class Stack` in test program you write below"
   ]
  },
  {
   "cell_type": "code",
   "execution_count": 17,
   "metadata": {},
   "outputs": [
    {
     "name": "stdout",
     "output_type": "stream",
     "text": [
      "test all function members of Stack and demonstrate its correct functioning\n"
     ]
    }
   ],
   "source": [
    "def testStack():\n",
    "    \n",
    "    # stck = ????\n",
    "    # etc. \n",
    "    \n",
    "    print('test all function members of Stack and demonstrate it''s correct functioning')\n",
    "\n",
    "    \n",
    "testStack()"
   ]
  },
  {
   "cell_type": "markdown",
   "metadata": {},
   "source": [
    "## EXERCISE 3: Use `Stack` to sort a doubly linked list. "
   ]
  },
  {
   "cell_type": "markdown",
   "metadata": {},
   "source": [
    "#### Task 3.1 (30 points) Use `DoublyLinkedList.smallest()` to select the smallest item on the list, push it on the stack and remove it from the list, until the list is empty. Then create a new list, popping nodes from the stack and inserting every smaller node at the head of the list. Display the list nodes in the order they are in the list, head-to-tail."
   ]
  },
  {
   "cell_type": "code",
   "execution_count": 18,
   "metadata": {},
   "outputs": [],
   "source": [
    "def selectionSortList():\n",
    "    \n",
    "    # create a list ...\n",
    "    \n",
    "    # from smaller to larger, push in on a stack, until list empty ...\n",
    "    \n",
    "    # create a sorted list smaller-to-largen, head--to--tail ...\n",
    "    \n",
    "    # print the list elements from the list, it in ascending order ...\n",
    "    \n",
    "    pass\n",
    "\n",
    "selectionSortList()\n"
   ]
  },
  {
   "cell_type": "markdown",
   "metadata": {},
   "source": [
    "**Done**"
   ]
  }
 ],
 "metadata": {
  "kernelspec": {
   "display_name": "xpy",
   "language": "python",
   "name": "xpy"
  },
  "language_info": {
   "codemirror_mode": {
    "name": "ipython",
    "version": 3
   },
   "file_extension": ".py",
   "mimetype": "text/x-python",
   "name": "python",
   "nbconvert_exporter": "python",
   "pygments_lexer": "ipython3",
   "version": "3.6.5"
  },
  "latex_envs": {
   "LaTeX_envs_menu_present": true,
   "autoclose": false,
   "autocomplete": true,
   "bibliofile": "biblio.bib",
   "cite_by": "apalike",
   "current_citInitial": 1,
   "eqLabelWithNumbers": true,
   "eqNumInitial": 1,
   "hotkeys": {
    "equation": "Ctrl-E",
    "itemize": "Ctrl-I"
   },
   "labels_anchors": false,
   "latex_user_defs": false,
   "report_style_numbering": false,
   "user_envs_cfg": false
  }
 },
 "nbformat": 4,
 "nbformat_minor": 2
}
