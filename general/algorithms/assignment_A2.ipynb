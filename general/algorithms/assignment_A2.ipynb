{
 "cells": [
  {
   "cell_type": "code",
   "execution_count": 2,
   "metadata": {},
   "outputs": [
    {
     "data": {
      "text/html": [
       "\n",
       "<style>\n",
       "    /*TU color table */\n",
       "    :root {\n",
       "      --tu-black:        rgb(0,0,0);\n",
       "      --tu-white:        rgb(255,255,255);\n",
       "      --tu-cyan:         rgb(0,166,214);\n",
       "      --tu-green:        rgb(165,202,26);\n",
       "      --tu-yellow:       rgb(225,196,0);\n",
       "      --tu-orange:       rgb(230,70,22);\n",
       "      --tu-red:          rgb(225,26,26);\n",
       "      --tu-purple:       rgb(109,23,127);\n",
       "      --tu-slategreen:   rgb(107,134,137);\n",
       "      --tu-turqoise:     rgb(0,136,145);\n",
       "      --tu-darkblue:     rgb(29,28,115);\n",
       "      --tu-skyblue:      rgb(110,187,213);\n",
       "    }\n",
       "    h2, h3, h4 {\n",
       "        background-color: var(--tu-white);\n",
       "        color: var(--tu-cyan);\n",
       "    }\n",
       "    h1 {\n",
       "        background-color: var(--tu-cyan);\n",
       "        color: var(--tu-white);\n",
       "    }\n",
       "    em {\n",
       "        color: var(--tu-cyan);\n",
       "    }\n",
       "     \n",
       "    div.output_stdout {\n",
       "        background-color: var(--tu-green);\n",
       "        color: var(--tu-black);\n",
       "    }\n",
       "    div.output_stdout:before {\n",
       "        content: \"stdout output;\";\n",
       "    }\n",
       "    div.output_stderr {\n",
       "        background-color: var(--tu-yellow);\n",
       "        color: var(--tu-black);\n",
       "    }\n",
       "    div.output_stderr:before {\n",
       "        content: \"stderr output;\";\n",
       "    }\n",
       "</style>\n",
       "<script>\n",
       "    code_show=true; \n",
       "    IPython.OutputArea.prototype._should_scroll = function(lines) {\n",
       "        return false;\n",
       "    }\n",
       "    function code_toggle() {\n",
       "        if (code_show){\n",
       "            $('div.cell.code_cell.rendered.selected div.input').hide();\n",
       "        } else {\n",
       "            $('div.cell.code_cell.rendered.selected div.input').show();\n",
       "        }\n",
       "        code_show = !code_show\n",
       "    }     \n",
       "    $( document ).ready(code_toggle);\n",
       "</script>\n",
       "<a href=\"javascript:code_toggle()\"><h4>Notebook settings</h4></a>\n"
      ],
      "text/plain": [
       "<IPython.core.display.HTML object>"
      ]
     },
     "metadata": {},
     "output_type": "display_data"
    }
   ],
   "source": [
    "# @hidden_cell\n",
    "\"\"\" Bart Gerritsen, Oct 2018:\n",
    "\n",
    "Note: for safety and robustness, styles and script are contained inside\n",
    "      the Notebook rather than in external *.css and *.js files\n",
    "\"\"\"      \n",
    "from IPython.core.display import HTML\n",
    "from IPython.display import display\n",
    "tag = HTML('''\n",
    "<style>\n",
    "    /*TU color table */\n",
    "    :root {\n",
    "      --tu-black:        rgb(0,0,0);\n",
    "      --tu-white:        rgb(255,255,255);\n",
    "      --tu-cyan:         rgb(0,166,214);\n",
    "      --tu-green:        rgb(165,202,26);\n",
    "      --tu-yellow:       rgb(225,196,0);\n",
    "      --tu-orange:       rgb(230,70,22);\n",
    "      --tu-red:          rgb(225,26,26);\n",
    "      --tu-purple:       rgb(109,23,127);\n",
    "      --tu-slategreen:   rgb(107,134,137);\n",
    "      --tu-turqoise:     rgb(0,136,145);\n",
    "      --tu-darkblue:     rgb(29,28,115);\n",
    "      --tu-skyblue:      rgb(110,187,213);\n",
    "    }\n",
    "    h2, h3, h4 {\n",
    "        background-color: var(--tu-white);\n",
    "        color: var(--tu-cyan);\n",
    "    }\n",
    "    h1 {\n",
    "        background-color: var(--tu-cyan);\n",
    "        color: var(--tu-white);\n",
    "    }\n",
    "    em {\n",
    "        color: var(--tu-cyan);\n",
    "    }\n",
    "     \n",
    "    div.output_stdout {\n",
    "        background-color: var(--tu-green);\n",
    "        color: var(--tu-black);\n",
    "    }\n",
    "    div.output_stdout:before {\n",
    "        content: \"stdout output;\";\n",
    "    }\n",
    "    div.output_stderr {\n",
    "        background-color: var(--tu-yellow);\n",
    "        color: var(--tu-black);\n",
    "    }\n",
    "    div.output_stderr:before {\n",
    "        content: \"stderr output;\";\n",
    "    }\n",
    "</style>\n",
    "<script>\n",
    "    code_show=true; \n",
    "    IPython.OutputArea.prototype._should_scroll = function(lines) {\n",
    "        return false;\n",
    "    }\n",
    "    function code_toggle() {\n",
    "        if (code_show){\n",
    "            $('div.cell.code_cell.rendered.selected div.input').hide();\n",
    "        } else {\n",
    "            $('div.cell.code_cell.rendered.selected div.input').show();\n",
    "        }\n",
    "        code_show = !code_show\n",
    "    }     \n",
    "    $( document ).ready(code_toggle);\n",
    "</script>\n",
    "<a href=\"javascript:code_toggle()\"><h4>Notebook settings</h4></a>\n",
    "''')\n",
    "display(tag)"
   ]
  },
  {
   "cell_type": "markdown",
   "metadata": {},
   "source": [
    "<header>\n",
    "    <div style=\"overflow: auto;\">\n",
    "        <img src=\"../figures/TUDelft.jpg\" style=\"float: left;\" />\n",
    "        <img src=\"../figures/DUT_Flame.png\" style=\"float: right; width: 100px;\" />\n",
    "    </div>\n",
    "    <div style=\"text-align: center;\">\n",
    "        <h2>Assignment A1: Abstract data types (Python3)</h2>\n",
    "        <h6>&copy; 2018, Bart Gerritsen, TU Delft.</h6>\n",
    "    </div>\n",
    "    <br>\n",
    "    <br>\n",
    "</header>"
   ]
  },
  {
   "cell_type": "markdown",
   "metadata": {},
   "source": [
    "# Introduction"
   ]
  },
  {
   "cell_type": "markdown",
   "metadata": {},
   "source": [
    "### Below, you find **Assignment A2**, a 2-student team assignment, for which the team has exactly 2 weeks. The points to collect for each execercise or part thereof, are indicated.\n",
    "\n",
    "Warning: do **not** Run-all ```|>|>``` , as there can be some long tasks in this Notebook. Start at the top and run cell-by-cell, advancing downwards."
   ]
  },
  {
   "cell_type": "markdown",
   "metadata": {},
   "source": [
    "## Overview\n",
    "\n",
    "The purpose of this assignment is to make you familiar with implementing a data structure in Python in an object oriented way. During the lectures, you were presented pseudo code of different basic data structures. Now we expect you to implement one of these structures yourself.\n",
    "\n",
    "To make it clear what is needed, we will provide you with skeletons for four classes: \n",
    "\n",
    "1. `class PriorityQueue`\n",
    "2. `class Heap`\n",
    "3. `class TreeNode`\n",
    "3. `class BinarySearchTree`\n",
    "\n",
    "What you do receive is a skeleton for all these classes. What you are going to do, is to implement:\n",
    "\n",
    "1. a *list*-based PriorityQueue class, with elementary operations\n",
    "2. a *list*-based minimum Heap class, with elementary operations\n",
    "3. a binary search tree of `TreeNode`s, with operations and storage in a list-of-lists\n",
    "\n",
    "The term- *list*-based refers to the standard python list, not a linked list. We will use Python's `list.append()` and `list.pop()`, to amend sizes of the basically fixed length python list, for convenience. A singly linked list would have been preferred. "
   ]
  },
  {
   "cell_type": "markdown",
   "metadata": {},
   "source": [
    "## NOTE: NO STANDARD PYTHON SORTING is permitted in this Assignment A2"
   ]
  },
  {
   "cell_type": "markdown",
   "metadata": {},
   "source": [
    "# Exercises"
   ]
  },
  {
   "cell_type": "markdown",
   "metadata": {},
   "source": [
    "## Priority Queue"
   ]
  },
  {
   "cell_type": "markdown",
   "metadata": {},
   "source": [
    "A priority queue is a queue of items, for instance Tasks, to be handled with varying priority. In a priority queue, items queued are enqueued and are being served according to their priority. In the below implementation, a seperate queueu is maintained for each priority, with a separate count of items on that queue."
   ]
  },
  {
   "cell_type": "code",
   "execution_count": 23,
   "metadata": {},
   "outputs": [],
   "source": [
    "class PriorityQueue:\n",
    "    \"\"\"list-based priority queue\"\"\"\n",
    "\n",
    "    # define priority classes served in this\n",
    "    # priority Q, plus labels ... (mind order)    \n",
    "    URG,HGH,NOR,LOW = (0,1,2,3)\n",
    "    PRIO      = (URG,HGH,NOR,LOW)\n",
    "    PRIO_LBLS = ('URG','HGH','NOR','LOW')\n",
    "\n",
    "    @staticmethod\n",
    "    def getNrPrioritiesServed():\n",
    "        \"\"\"return count of priority classes\"\"\"\n",
    "        return len(PRIO)\n",
    "    \n",
    "    @staticmethod\n",
    "    def serves(priority):\n",
    "        \"\"\"return T|F priority supported in this Q\"\"\"\n",
    "        return priority in PRIO\n",
    "    \n",
    "    \n",
    "    def __init__(self, nr_priorities = len(PRIO)):\n",
    "        \"\"\"construct a queue supporting nr_priorities queues\"\"\"\n",
    "        self.__qs = [[] for p in range(nr_priorities)]\n",
    "        self.__count = [0] * nr_priorities \n",
    "    \n",
    "\n",
    "    def qsize(self, priority=None):\n",
    "        \"\"\"return count of queued item with prio, count all if None\"\"\"\n",
    "        if priority is not None:\n",
    "            return len(self.__qs[priority])\n",
    "        return sum(self.__count)\n",
    "\n",
    "    \n",
    "    def empty(self, priority=None):\n",
    "        \"\"\"return T/F is empty, for given prio, whole Q if None\"\"\"\n",
    "        if priority is not None:\n",
    "            # is queue of given priority empty?\n",
    "            is_empty = ( self.__count[priority] == 0 )\n",
    "        else:\n",
    "            # are all queues empty?\n",
    "            is_empty = not any([self.qsize(p) for p in range(len(self.PRIO))])\n",
    "        return is_empty\n",
    "    \n",
    "    \n",
    "    def enqueue(self, item, priority):\n",
    "        \"\"\"put item on prio queue with prio given\"\"\"\n",
    "        self.__qs[priority].append(item)\n",
    "        self.__count[priority]+=1\n",
    "\n",
    "       \n",
    "    def dequeue(self):\n",
    "        \"\"\"get the next item, priority in order from the priority queue\"\"\"\n",
    "        if not self.empty():\n",
    "            for i in range(len(PriorityQueue.PRIO)):\n",
    "                try:\n",
    "                    ret = self.__qs[i].pop(0)\n",
    "                    self.__count[i] -= 1\n",
    "                    return ret\n",
    "                except:\n",
    "                    pass\n",
    "        else:\n",
    "            print(\"ALL QUEUES EMPTY\")\n",
    "    def q(self):\n",
    "        return self.__qs\n"
   ]
  },
  {
   "cell_type": "code",
   "execution_count": 24,
   "metadata": {},
   "outputs": [
    {
     "name": "stdout",
     "output_type": "stream",
     "text": [
      "priority queue empty? True\n",
      "[['Task 2', 'Task 4'], ['Task 0'], ['Task 1', 'Task 6', 'Task 9'], ['Task 3', 'Task 5', 'Task 7', 'Task 8']]\n",
      "Task 2 Task 4\n"
     ]
    }
   ],
   "source": [
    "def run_test():\n",
    "    \"\"\"demonstrate the use of class PriorityQueue\"\"\"\n",
    "\n",
    "    def printQueue(q, title=''):\n",
    "        \"\"\"simple console print of queue\"\"\"\n",
    "        print(title)\n",
    "        for prio in range(q.getNrPrioritiesServed()):\n",
    "            print('{:s} {:2d} tasks: '. \\\n",
    "                  format(q.PRIO_LBLS[prio], q.qsize(prio)), end='')\n",
    "            for t in range(q.qsize(prio)):\n",
    "                print('T ', end='')\n",
    "            print()\n",
    "        print('Total tasks in queue: {:d}'. format(q.qsize()))  \n",
    "\n",
    "    # for task indexing in TASK ...\n",
    "    TASK,PRIO = (0,1)\n",
    "            \n",
    "    TASKS = (# TASK          PRIO\n",
    "            ('Task 0', PriorityQueue.HGH),\n",
    "            ('Task 1', PriorityQueue.NOR),\n",
    "            ('Task 2', PriorityQueue.URG),\n",
    "            ('Task 3', PriorityQueue.LOW),\n",
    "            ('Task 4', PriorityQueue.URG),\n",
    "            ('Task 5', PriorityQueue.LOW),\n",
    "            ('Task 6', PriorityQueue.NOR),\n",
    "            ('Task 7', PriorityQueue.LOW),\n",
    "            ('Task 8', PriorityQueue.LOW),\n",
    "            ('Task 9', PriorityQueue.NOR)\n",
    "        )\n",
    "    \n",
    "    my_queue = PriorityQueue()\n",
    "    \n",
    "    print('priority queue empty? {:s}'. format(str(my_queue.empty())))\n",
    "    \n",
    "    # ... enqueue the above listed tasks ...\n",
    "    \n",
    "        # ... catch any wrong prio classes  ...\n",
    "    for task in TASKS:\n",
    "        my_queue.enqueue(*task)\n",
    "    # print the queue so far ...\n",
    "    print(my_queue.q())\n",
    "    print(my_queue.dequeue(), my_queue.dequeue())\n",
    "    # continue yourself ...\n",
    "\n",
    "run_test()"
   ]
  },
  {
   "cell_type": "markdown",
   "metadata": {},
   "source": [
    "#### EXERCISE 1: finish the implementation of `class PriorityQueue` and the test program to demonstrate all its functionality (20 points)"
   ]
  },
  {
   "cell_type": "markdown",
   "metadata": {},
   "source": [
    "## Heap"
   ]
  },
  {
   "cell_type": "markdown",
   "metadata": {},
   "source": [
    "Heaps are partially ordered binary trees, that can be implemented as a binary tree, a linked list, or a single array (list). A heap satisfies the following properties:\n",
    "    \n",
    "    1. every parent node has a value less (greater) than or equal to \n",
    "       any of its children \n",
    "    2. the root of the tree is in position 1 in the array\n",
    "    3. the left child of a node k is in position 2*k in the array, and\n",
    "       the right child in position 2k+1 \n",
    "    4. the binary tree is complete, meaning that height differences are\n",
    "       1 atmost and leaf nodes are most to the left in the tree as \n",
    "       possible\n",
    "\n",
    "Min heaps organize the smallest value nodes closest to the root, max heaps the greatest. Duplicate value nodes (see property 1.) may appear in the tree (array). \n",
    "\n",
    "We count nodes from k=0, although array[0] is not occupied (the root is at array[1]). The invariant of the heap is that the root is always the 'largest' (max-heap) or 'smallest' (min heap) item. A heap is popped by extracting the node from the tree. To maintain the heap invariant, we implement operations being able to restore it as needed.\n",
    "\n",
    "A *max heap* example is given below, obtained from the site referenced below.\n",
    "\n",
    "<img src=\"../figures/max_heap.png\" alt=\"max heap example\" width=\"480\"/>\n",
    "\n",
    "**References**\n",
    "\n",
    "https://www.hackerearth.com/practice/notes/heaps-and-priority-queues/"
   ]
  },
  {
   "cell_type": "code",
   "execution_count": 14,
   "metadata": {},
   "outputs": [],
   "source": [
    "class Heap:\n",
    "    \"\"\"min heap queue\"\"\"\n",
    "    \n",
    "    def __init__(self):\n",
    "        self.__heap = []\n",
    "        self.__count = 0\n",
    "        \n",
    "    def empty(self):\n",
    "        \"\"\"return T|F heap is empty\"\"\"\n",
    "        return self.__count is 0\n",
    "    \n",
    "    def hsize(self):\n",
    "        \"\"\"return nr of items in heap\"\"\"\n",
    "        return self.__count\n",
    "    \n",
    "    def push(self, item):\n",
    "        self.__count += 1\n",
    "        return \n",
    "    \n",
    "    def pop(self):\n",
    "        self.__count -= 1\n",
    "        \"\"\"get next item from the heap\"\"\"\n",
    "        pass\n",
    "    \n",
    "    def _heapify_min(self, task_list, i, N):\n",
    "        \"\"\"restore the min heap invariant\"\"\"\n",
    "        pass\n",
    "    \n",
    "    def _swap(self):\n",
    "        \"\"\"swap two heap elements\"\"\"\n",
    "        pass\n"
   ]
  },
  {
   "cell_type": "code",
   "execution_count": 15,
   "metadata": {},
   "outputs": [],
   "source": [
    "def run_heap_test():\n",
    "    \"\"\"demo functionality min heap\"\"\"\n",
    "    pass\n",
    "\n",
    "run_heap_test()"
   ]
  },
  {
   "cell_type": "markdown",
   "metadata": {},
   "source": [
    "#### EXERCISE 2: finalize the implementation of `class Heap`and the test program to demonstrate all its functionality (20 points)"
   ]
  },
  {
   "cell_type": "markdown",
   "metadata": {},
   "source": [
    "#### EXERCISE 3: Implement a `class PriorityQueue2` by extending `class PriorityQueue`, replacing the *four queues* `PriorityQueue.__qs` by a single *min heap*. Use the above `class Heap` to accomplish this. Write a test program `run_pq2_test()` to demonstrate all its functionality (30 points)"
   ]
  },
  {
   "cell_type": "code",
   "execution_count": 16,
   "metadata": {},
   "outputs": [],
   "source": [
    "class PriorityQueue2:\n",
    "    \"\"\"PriorityQueue serving items with arbitrary priorities\"\"\"\n",
    "\n",
    "    def __init__(self):\n",
    "        pass\n"
   ]
  },
  {
   "cell_type": "code",
   "execution_count": 17,
   "metadata": {},
   "outputs": [],
   "source": [
    "def run_pq2_test():\n",
    "    \"\"\"demonstrate the use of class PriorityQueue\"\"\"\n",
    "    \n",
    "    my_queue = PriorityQueue2()\n",
    "\n",
    "run_pq2_test()"
   ]
  },
  {
   "cell_type": "markdown",
   "metadata": {},
   "source": [
    "## Binary Search Tree "
   ]
  },
  {
   "cell_type": "markdown",
   "metadata": {},
   "source": [
    "A binary search tree is a binary tree in which nodes are ordered, thus providing $\\mathcal{O}(log~N)$ time complexity searching. Below is a ttemplate to implement `class BinarySearchTree` which uses `class TreeNode` for which a template implementation is given along. In `class TreeNode`, every instance has a `item` field, and also a `key`, contained in a dictionary. This dictionary can be expanded as seen fit, but a:\n",
    "`\n",
    "dict({'key': <a key string>, 'item': <an item type>})\n",
    "` \n",
    "is the minimum required. Any class extending this `class TreeNode` that obeys these rules, can be used in `class BinarySearchTree`"
   ]
  },
  {
   "cell_type": "markdown",
   "metadata": {},
   "source": [
    "#### EXERCISE 4: finalize the implementation of `class TreeNode` and `class BinarySearchTree` below. Implement `run_bst_test()` program to demonstrate all functionality  (30 points)"
   ]
  },
  {
   "cell_type": "code",
   "execution_count": 42,
   "metadata": {},
   "outputs": [
    {
     "data": {
      "text/plain": [
       "TreeNode(\"{'key': 'a', 'item': 12}\")"
      ]
     },
     "execution_count": 42,
     "metadata": {},
     "output_type": "execute_result"
    }
   ],
   "source": [
    "class TreeNode(dict):\n",
    "    \"\"\"binary tree node\"\"\"\n",
    "     \n",
    "    # define the TWO must-have key-value pairs ...\n",
    "    KEY  = 'key'\n",
    "    ITEM = 'item'\n",
    "    \n",
    "    def __init__(self, node_dict):\n",
    "        \"\"\"construct node and super node\"\"\"\n",
    "        # check if compliant with interface ...\n",
    "        if not (TreeNode.KEY in node_dict and TreeNode.ITEM in node_dict):\n",
    "            raise ValueError('Node Dictionary must have KEY and ITEM')\n",
    "            \n",
    "        # pass it on to the underlying dictionary ...\n",
    "        super().__init__(node_dict)\n",
    "\n",
    "    def destroy(self):\n",
    "        \"\"\"remove all items from node dictionary\"\"\"\n",
    "        super().clear()\n",
    "        \n",
    "    def __repr__(self):\n",
    "        \"\"\"implement object representation\"\"\"\n",
    "        return 'TreeNode({!r})'. format(super().__repr__())\n",
    "    \n",
    "    def __str__(self):\n",
    "        \"\"\"implement string representation\"\"\"\n",
    "        return '{:s}'. format(super().__str__()) \n",
    "            \n",
    "    # getters and setters ...\n",
    "    def get_dict(self):\n",
    "        \"\"\"return node dictionary\"\"\"\n",
    "        return super()\n",
    "    \n",
    "    # comperators and operator overloading ...\n",
    "    def equal(self, other):\n",
    "        \"\"\"return T|F item self == item other\"\"\" \n",
    "        pass\n",
    "            \n",
    "    def smaller(self, other):\n",
    "        \"\"\"return T|F item self < item other\"\"\"\n",
    "        pass\n",
    "\n",
    "    def __lt__(self, other):\n",
    "        return self.smaller(other)\n",
    "    \n",
    "    def __eq__(self, other):\n",
    "        return self.equal(other)\n",
    "    \n",
    "    def __ne__(self, other):\n",
    "        pass\n",
    "                  \n",
    "    def __le__(self, other):\n",
    "        pass\n",
    "    \n",
    "    def __gt__(self,other):\n",
    "        pass\n",
    "\n",
    "    def __ge__(self,other): \n",
    "        pass\n",
    "    \n",
    "    def __not__(self):\n",
    "        \"\"\"return T|F if self None\"\"\"\n",
    "        pass\n",
    "\n"
   ]
  },
  {
   "cell_type": "code",
   "execution_count": 58,
   "metadata": {},
   "outputs": [
    {
     "name": "stdout",
     "output_type": "stream",
     "text": [
      "Cat with 11 paws\n"
     ]
    },
    {
     "ename": "TypeError",
     "evalue": "blah() takes 0 positional arguments but 1 was given",
     "output_type": "error",
     "traceback": [
      "\u001b[0;31m-----------------------------\u001b[0m",
      "\u001b[0;31mTypeError\u001b[0mTraceback (most recent call last)",
      "\u001b[0;32m<ipython-input-58-8bb6cb7fdd1c>\u001b[0m in \u001b[0;36m<module>\u001b[0;34m\u001b[0m\n\u001b[1;32m     12\u001b[0m \u001b[0mcat1\u001b[0m\u001b[0;34m==\u001b[0m\u001b[0mcat2\u001b[0m\u001b[0;34m\u001b[0m\u001b[0m\n\u001b[1;32m     13\u001b[0m \u001b[0mprint\u001b[0m\u001b[0;34m(\u001b[0m\u001b[0mcat1\u001b[0m\u001b[0;34m)\u001b[0m\u001b[0;34m\u001b[0m\u001b[0m\n\u001b[0;32m---> 14\u001b[0;31m \u001b[0mcat1\u001b[0m\u001b[0;34m.\u001b[0m\u001b[0mblah\u001b[0m\u001b[0;34m(\u001b[0m\u001b[0;34m)\u001b[0m\u001b[0;34m\u001b[0m\u001b[0m\n\u001b[0m",
      "\u001b[0;31mTypeError\u001b[0m: blah() takes 0 positional arguments but 1 was given"
     ]
    }
   ],
   "source": [
    "class Meow:\n",
    "    def blah():\n",
    "        print(\"Static Method Printed\")\n",
    "    def __init__(self, paws = 10):\n",
    "        self.paws = paws\n",
    "    def __str__(self):\n",
    "        return \"Cat with %d paws\"%self.paws\n",
    "    def __eq__(self, other):\n",
    "        return self.paws == other.paws\n",
    "cat1 = Meow(11)\n",
    "cat2 = Meow(11)\n",
    "cat1==cat2\n",
    "print(cat1)\n",
    "cat1.blah()"
   ]
  },
  {
   "cell_type": "code",
   "execution_count": 19,
   "metadata": {},
   "outputs": [
    {
     "name": "stdout",
     "output_type": "stream",
     "text": [
      "wrong tree node intercepted. Ok\n",
      "TreeNode(\"{'key': '7', 'item': 7}\")\n",
      "TreeNode(\"{'key': '4', 'item': 4}\")\n",
      "TreeNode(\"{'key': '2', 'item': 2}\")\n",
      "TreeNode(\"{'key': '6', 'item': 6}\")\n",
      "TreeNode(\"{'key': '5', 'item': 5}\")\n"
     ]
    }
   ],
   "source": [
    "def run_tn_test():\n",
    "    \n",
    "    nodes = [\n",
    "        TreeNode({'key': '7', 'item': 7}),\n",
    "        TreeNode({'key': '4', 'item': 4}),\n",
    "        TreeNode({'key': '2', 'item': 2}),\n",
    "        TreeNode({'key': '6', 'item': 6}),\n",
    "        TreeNode({'key': '5', 'item': 5})\n",
    "    ]\n",
    "    \n",
    "    try:\n",
    "            nodes.append(TreeNode({'another_key': 0, 'another_item': 0}))\n",
    "    except ValueError:\n",
    "        print('wrong tree node intercepted. Ok')\n",
    "    \n",
    "    for node in nodes:\n",
    "        print(node)\n",
    "        \n",
    "run_tn_test()"
   ]
  },
  {
   "cell_type": "code",
   "execution_count": 20,
   "metadata": {},
   "outputs": [],
   "source": [
    "class BinarySearchTree(TreeNode):\n",
    "    \"\"\"binary search tree of nodes\"\"\"\n",
    "    \n",
    "    def __init__(self, data=None):\n",
    "        \"\"\"construct bst tree from ordered nodes\"\"\"\n",
    "        self.__data  = data\n",
    "        self.__left  = None\n",
    "        self.__right = None\n",
    "        \n",
    "    def get_root(self):\n",
    "        \"\"\"return the root node\"\"\"\n",
    "        return self\n",
    "    \n",
    "    def get_data(self):\n",
    "        \"\"\"return data item from node\"\"\"\n",
    "        pass\n",
    "    \n",
    "    def set_data(self, data):\n",
    "        \"\"\"set data on node\"\"\"\n",
    "        pass\n",
    "    \n",
    "    def get_left(self):\n",
    "        \"\"\"return left subtree\"\"\"\n",
    "        return self.__left\n",
    "    \n",
    "    def get_right(self):\n",
    "        \"\"\"return right subtree\"\"\"\n",
    "        return self.__right\n",
    " \n",
    "    def set_left(self, node):\n",
    "        \"\"\"set left subtree\"\"\"\n",
    "        pass \n",
    "    \n",
    "    def set_right(self, node):\n",
    "        \"\"\"set right subtree\"\"\"\n",
    "        pass\n",
    "    \n",
    "    def insert(self, new, level=0):\n",
    "        \"\"\"insert new on tree\"\"\"\n",
    "        pass\n",
    "    \n",
    "    def find(self, key, parent=None, level=0):\n",
    "        \"\"\"return node, parent and level of node by key, None of not found\"\"\"\n",
    "        pass\n",
    "    \n",
    "    def remove(self, parent, level):\n",
    "        \"\"\"remove node from tree\"\"\"\n",
    "        pass\n",
    "    \n",
    "    def height(self):\n",
    "        \"\"\"return tree height\"\"\"\n",
    "        pass\n",
    "    \n",
    "    def depth(self):\n",
    "        \"\"\"return tree depth\"\"\"\n",
    "        pass\n",
    "    \n",
    "    def empty(self):\n",
    "        \"\"\"return T|F tree empty\"\"\"\n",
    "        is_empty = not (self.get_root().get_left() or self.get_root().get_right() )\n",
    "        return is_empty\n",
    "        \n",
    "    def traverse_pre_order(self, visitor, level=0):\n",
    "        \"\"\"traverse tree, visiting each node in order\"\"\"\n",
    "        pass\n",
    "    \n",
    "    def traverse_in_order(self, visitor, level=0):\n",
    "        \"\"\"traverse tree, visiting each node pre-order\"\"\"\n",
    "        pass\n",
    "    \n",
    "    def traverse_post_order(self, visitor, level=0):\n",
    "        \"\"\"traverse tree, visiting each node post-order\"\"\"\n",
    "        pass\n",
    "        "
   ]
  },
  {
   "cell_type": "code",
   "execution_count": 21,
   "metadata": {},
   "outputs": [
    {
     "name": "stdout",
     "output_type": "stream",
     "text": [
      "initial tree empty? True\n"
     ]
    }
   ],
   "source": [
    "def run_bst_test():\n",
    "    \n",
    "    \"\"\"test bst functionality\"\"\"\n",
    "    \n",
    "    my_bst = BinarySearchTree()\n",
    "        \n",
    "    print('initial tree empty? {:s}'. format(str(my_bst.empty())))\n",
    "    \n",
    "    # ... continue here\n",
    "\n",
    "run_bst_test()"
   ]
  },
  {
   "cell_type": "markdown",
   "metadata": {},
   "source": [
    "**Done**"
   ]
  }
 ],
 "metadata": {
  "kernelspec": {
   "display_name": "xpy",
   "language": "python",
   "name": "xpy"
  },
  "language_info": {
   "codemirror_mode": {
    "name": "ipython",
    "version": 3
   },
   "file_extension": ".py",
   "mimetype": "text/x-python",
   "name": "python",
   "nbconvert_exporter": "python",
   "pygments_lexer": "ipython3",
   "version": "3.6.5"
  },
  "latex_envs": {
   "LaTeX_envs_menu_present": true,
   "autoclose": false,
   "autocomplete": true,
   "bibliofile": "biblio.bib",
   "cite_by": "apalike",
   "current_citInitial": 1,
   "eqLabelWithNumbers": true,
   "eqNumInitial": 1,
   "hotkeys": {
    "equation": "Ctrl-E",
    "itemize": "Ctrl-I"
   },
   "labels_anchors": false,
   "latex_user_defs": false,
   "report_style_numbering": false,
   "user_envs_cfg": false
  }
 },
 "nbformat": 4,
 "nbformat_minor": 2
}
